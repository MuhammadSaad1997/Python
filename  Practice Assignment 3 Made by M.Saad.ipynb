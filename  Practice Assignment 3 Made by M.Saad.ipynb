{
 "cells": [
  {
   "cell_type": "code",
   "execution_count": 1,
   "metadata": {},
   "outputs": [
    {
     "name": "stdout",
     "output_type": "stream",
     "text": [
      "chicken tikka\n",
      "chicken fajita\n",
      "chicken malai boti\n"
     ]
    }
   ],
   "source": [
    "pizzas = [\"chicken tikka\", \"chicken fajita\", \"chicken malai boti\"]\n",
    "\n",
    "for pizza in pizzas:\n",
    "    print(pizza)"
   ]
  },
  {
   "cell_type": "code",
   "execution_count": 2,
   "metadata": {},
   "outputs": [
    {
     "name": "stdout",
     "output_type": "stream",
     "text": [
      "i like chicken tikka pizza \n",
      "i like chicken fajita pizza \n",
      "i like chicken malai boti pizza \n"
     ]
    }
   ],
   "source": [
    "pizzas = [\"chicken tikka\", \"chicken fajita\", \"chicken malai boti\"]\n",
    "\n",
    "for pizza in pizzas:\n",
    "    print(\"i like \" + pizza + \" pizza \")"
   ]
  },
  {
   "cell_type": "code",
   "execution_count": 3,
   "metadata": {},
   "outputs": [
    {
     "name": "stdout",
     "output_type": "stream",
     "text": [
      "counting from 1 - 20\n",
      "\n",
      "1\n",
      "2\n",
      "3\n",
      "4\n",
      "5\n",
      "6\n",
      "7\n",
      "8\n",
      "9\n",
      "10\n",
      "11\n",
      "12\n",
      "13\n",
      "14\n",
      "15\n",
      "16\n",
      "17\n",
      "18\n",
      "19\n",
      "20\n"
     ]
    }
   ],
   "source": [
    "print(\"counting from 1 - 20\\n\")\n",
    "for number in range(1, 21):\n",
    "    print(number)"
   ]
  },
  {
   "cell_type": "code",
   "execution_count": 4,
   "metadata": {},
   "outputs": [
    {
     "name": "stdout",
     "output_type": "stream",
     "text": [
      "Odd Numbers from 1 to 20\n",
      "\n",
      "1\n",
      "3\n",
      "5\n",
      "7\n",
      "9\n",
      "11\n",
      "13\n",
      "15\n",
      "17\n",
      "19\n"
     ]
    }
   ],
   "source": [
    "print(\"Odd Numbers from 1 to 20\\n\")\n",
    "for number in range(1, 21, 2):\n",
    "    print(number)"
   ]
  },
  {
   "cell_type": "code",
   "execution_count": 5,
   "metadata": {},
   "outputs": [
    {
     "name": "stdout",
     "output_type": "stream",
     "text": [
      "3\n",
      "6\n",
      "9\n",
      "12\n",
      "15\n",
      "18\n",
      "21\n",
      "24\n",
      "27\n",
      "30\n"
     ]
    }
   ],
   "source": [
    "maz "
   ]
  },
  {
   "cell_type": "code",
   "execution_count": 6,
   "metadata": {},
   "outputs": [
    {
     "name": "stdout",
     "output_type": "stream",
     "text": [
      "1\n",
      "8\n",
      "27\n",
      "64\n",
      "125\n",
      "216\n",
      "343\n",
      "512\n",
      "729\n",
      "1000\n"
     ]
    }
   ],
   "source": [
    "cubes = [value ** 3 for value in range(1, 11)]\n",
    "\n",
    "for cube in cubes:\n",
    "    print(cube)"
   ]
  },
  {
   "cell_type": "code",
   "execution_count": 7,
   "metadata": {},
   "outputs": [
    {
     "name": "stdout",
     "output_type": "stream",
     "text": [
      "The first three items in the list are:\n",
      "\n",
      "chicken qourma\n",
      "chicken biryani\n",
      "beef pilao\n",
      "\n",
      "Three items from the middle of the list are:\n",
      "\n",
      "aloo gosht\n",
      "chicken karahi\n",
      "beef namkeen\n",
      "\n",
      "The last three items in the list are:\n",
      "\n",
      "aloo chawal\n",
      "chicken tikka\n",
      "white karahi\n"
     ]
    }
   ],
   "source": [
    "dishes = [\"chicken qourma\", \"chicken biryani\", \"beef pilao\", \"aloo gosht\", \"chicken karahi\", \"beef namkeen\", \"aloo chawal\", \"chicken tikka\",\"white karahi\"]\n",
    "\n",
    "print(\"The first three items in the list are:\\n\")\n",
    "\n",
    "for item in dishes[:3]:\n",
    "    print(item)\n",
    "    \n",
    "print(\"\\nThree items from the middle of the list are:\\n\")\n",
    "\n",
    "for item in dishes[3:6]:\n",
    "    print(item)\n",
    "    \n",
    "print(\"\\nThe last three items in the list are:\\n\")\n",
    "\n",
    "for item in dishes[6:]:\n",
    "    print(item)"
   ]
  },
  {
   "cell_type": "code",
   "execution_count": 8,
   "metadata": {
    "scrolled": true
   },
   "outputs": [
    {
     "name": "stdout",
     "output_type": "stream",
     "text": [
      "My favorite foods are:\n",
      "\n",
      "chicken qourma\n",
      "chicken biryani\n",
      "beef pilao\n",
      "aloo gosht\n",
      "chicken karahi\n",
      "beef namkeen\n",
      "aloo chawal\n",
      "chicken tikka\n",
      "white karahi\n",
      "chana chawal\n",
      "\n",
      "My friend's favorite foods are:\n",
      "\n",
      "chicken qourma\n",
      "chicken biryani\n",
      "beef pilao\n",
      "aloo gosht\n",
      "chicken karahi\n",
      "beef namkeen\n",
      "aloo chawal\n",
      "chicken tikka\n",
      "white karahi\n",
      "arvi Gosht\n"
     ]
    }
   ],
   "source": [
    "my_foods = [\"chicken qourma\", \"chicken biryani\", \"beef pilao\", \"aloo gosht\", \"chicken karahi\", \"beef namkeen\", \"aloo chawal\", \"chicken tikka\",\"white karahi\"]\n",
    "friend_foods = my_foods.copy()\n",
    "\n",
    "my_foods.append(\"chana chawal\")\n",
    "\n",
    "friend_foods.append(\"arvi Gosht\")\n",
    "\n",
    "print(\"My favorite foods are:\\n\")\n",
    "\n",
    "for food in my_foods:\n",
    "    print(food)\n",
    "    \n",
    "print(\"\\nMy friend's favorite foods are:\\n\")\n",
    "\n",
    "for food in friend_foods:\n",
    "    print(food)"
   ]
  },
  {
   "cell_type": "code",
   "execution_count": 9,
   "metadata": {},
   "outputs": [
    {
     "name": "stdout",
     "output_type": "stream",
     "text": [
      "Enter Alien Color: red\n",
      "The player just earned 5 points for shooting the alien.\n"
     ]
    }
   ],
   "source": [
    "alien_color = input(\"Enter Alien Color: \")\n",
    "\n",
    "alien_color = alien_color.lower()\n",
    "\n",
    "if alien_color == \"red\":\n",
    "    print(\"The player just earned 5 points for shooting the alien.\")\n",
    "elif alien_color == \"green\":\n",
    "    print(\"The player just earned 10 points.\")\n",
    "else:\n",
    "    print(\"Alien is no more.....\")"
   ]
  },
  {
   "cell_type": "code",
   "execution_count": 10,
   "metadata": {},
   "outputs": [
    {
     "name": "stdout",
     "output_type": "stream",
     "text": [
      "The person is a toddler.\n"
     ]
    }
   ],
   "source": [
    "age = 3\n",
    "\n",
    "if age < 2:\n",
    "    print(\"The person is a baby.\")\n",
    "elif age >= 2 and age < 4:\n",
    "    print(\"The person is a toddler.\")\n",
    "elif age >= 4 and age < 13:\n",
    "    print(\"The person is a kid.\")\n",
    "elif age >= 13 and age < 20:\n",
    "    print(\"The person is a teenager.\")\n",
    "elif age >= 20 and age < 65:\n",
    "    print(\"The person is an adult.\")\n",
    "else:\n",
    "    print(\"The person is an elder.\")"
   ]
  },
  {
   "cell_type": "code",
   "execution_count": 4,
   "metadata": {},
   "outputs": [
    {
     "name": "stdout",
     "output_type": "stream",
     "text": [
      "'Saad' username is already used!\n",
      "You have to enter a new username!\n",
      "\n",
      "Enter Username: saad\n",
      "'Saad' username is already used!\n",
      "You have to enter a new username!\n",
      "\n",
      "'Zainab' username is available!\n",
      "'Aziz' username is available!\n",
      "'Samra' username is available!\n",
      "'Tanzila' username is available!\n"
     ]
    }
   ],
   "source": [
    "current_users = [\"Saad\",\"Shariq\",\"Sameer\",\"Areeb\",\"Faraz\",\"Hayder\"]\n",
    "new_users=[\"Saad\",\"Maryam\",\"Zainab\",\"Aziz\",\"Samra\",\"Tanzila\"]\n",
    "for new_user in new_users:\n",
    "    if new_user in current_users:\n",
    "        print(\"'\"+ new_user + \"' username is already used!\\nYou have to enter a new username!\\n\")\n",
    "        \n",
    "        new_users.remove(new_user)\n",
    "        \n",
    "        username = input(\"Enter Username: \")\n",
    "        \n",
    "        if username.lower() == new_user.lower():\n",
    "            print(\"'\"+ new_user + \"' username is already used!\\nYou have to enter a new username!\\n\")\n",
    "        else:\n",
    "            new_users.append(username.title())\n",
    "    else:\n",
    "        print(\"'\"+ new_user + \"' username is available!\")"
   ]
  },
  {
   "cell_type": "code",
   "execution_count": 14,
   "metadata": {},
   "outputs": [
    {
     "name": "stdout",
     "output_type": "stream",
     "text": [
      "First Name: Muhammad\n",
      "Last Name: Saad\n",
      "Age: 21\n",
      "City: Karachi\n"
     ]
    }
   ],
   "source": [
    "person = {\n",
    "    \"first_name\": \"Muhammad\",\n",
    "    \"last_name\": \"Saad\",\n",
    "    \"age\": 21,\n",
    "    \"city\": \"Karachi\"\n",
    "}\n",
    "\n",
    "print(\"First Name: \" + person[\"first_name\"])\n",
    "print(\"Last Name: \" + person[\"last_name\"])\n",
    "print(\"Age: \" + str(person[\"age\"]))\n",
    "print(\"City: \" + person[\"city\"])"
   ]
  },
  {
   "cell_type": "code",
   "execution_count": 17,
   "metadata": {},
   "outputs": [
    {
     "name": "stdout",
     "output_type": "stream",
     "text": [
      "first_name: Muhammad\n",
      "last_name: Saad\n",
      "age: 21\n",
      "city: Karachi\n"
     ]
    }
   ],
   "source": [
    "person = {\n",
    "    \"first_name\": \"Muhammad\",\n",
    "    \"last_name\": \"Saad\",\n",
    "    \"age\": \"21\",\n",
    "    \"city\": \"Karachi\",\n",
    "}\n",
    "\n",
    "for key, value in person.items():\n",
    "    print(key + \": \" + value)"
   ]
  },
  {
   "cell_type": "code",
   "execution_count": 18,
   "metadata": {},
   "outputs": [
    {
     "name": "stdout",
     "output_type": "stream",
     "text": [
      "first_name: Muhammad\n",
      "last_name: Saad\n",
      "age: 21\n",
      "city: Karachi\n",
      "print: print the statement\n",
      "input: scan any value\n",
      "if: condition\n",
      "else: other condition\n",
      "for: for loop\n"
     ]
    }
   ],
   "source": [
    "person[\"print\"] = \"print the statement\"\n",
    "person[\"input\"] = \"scan any value\"\n",
    "person[\"if\"] = \"condition\"\n",
    "person[\"else\"] = \"other condition\"\n",
    "person[\"for\"] = \"for loop\"\n",
    "\n",
    "for key, value in person.items():\n",
    "    print(key + \": \" + value)"
   ]
  },
  {
   "cell_type": "code",
   "execution_count": 19,
   "metadata": {},
   "outputs": [
    {
     "name": "stdout",
     "output_type": "stream",
     "text": [
      "The SEPIK RIVER runs through PAPUA NEW GUINEA.\n",
      "The MISSISSIPPI RIVER runs through UNITED STATES AND NORTH AMERICA.\n",
      "The NILE runs through EGYPT.\n"
     ]
    }
   ],
   "source": [
    "rivers = {\n",
    "    \"sepik river\": \"Papua New Guinea\",\n",
    "    \"Mississippi River\": \"United States and North America\",\n",
    "    \"nile\": \"egypt\"\n",
    "}\n",
    "\n",
    "for river, country in rivers.items():\n",
    "    print(\"The \" + river.upper() + \" runs through \" + country.upper() + \".\")"
   ]
  },
  {
   "cell_type": "code",
   "execution_count": 21,
   "metadata": {},
   "outputs": [
    {
     "name": "stdout",
     "output_type": "stream",
     "text": [
      "kind: Mammal\n",
      "owner's_name: Barbad udddin\n",
      "\n",
      "kind: Mammal\n",
      "owner's_name: Barood Khan\n",
      "\n",
      "kind: Mammal\n",
      "owner's_name: Shair khan\n",
      "\n",
      "kind: Mammal\n",
      "owner_name: Gulaboo\n",
      "\n"
     ]
    }
   ],
   "source": [
    "Cat = {\n",
    "    \"kind\": \"Mammal\",\n",
    "    \"owner's_name\": \"Barbad udddin\"\n",
    "}\n",
    "\n",
    "Dog = {\n",
    "    \"kind\": \"Mammal\",\n",
    "    \"owner's_name\": \"Barood Khan\"\n",
    "}\n",
    "\n",
    "Elephants = {\n",
    "    \"kind\": \"Mammal\",\n",
    "    \"owner's_name\": \"Shair khan\"\n",
    "}\n",
    "\n",
    "Giraffes = {\n",
    "    \"kind\": \"Mammal\",\n",
    "    \"owner_name\": \"Gulaboo\"\n",
    "}\n",
    "\n",
    "pets = [Cat,Dog,Elephants,Giraffes]\n",
    "\n",
    "for pet in pets:\n",
    "    for key, value in pet.items():\n",
    "        print(key + \": \" + value)\n",
    "    print()"
   ]
  },
  {
   "cell_type": "code",
   "execution_count": null,
   "metadata": {},
   "outputs": [],
   "source": []
  }
 ],
 "metadata": {
  "kernelspec": {
   "display_name": "Python 3",
   "language": "python",
   "name": "python3"
  },
  "language_info": {
   "codemirror_mode": {
    "name": "ipython",
    "version": 3
   },
   "file_extension": ".py",
   "mimetype": "text/x-python",
   "name": "python",
   "nbconvert_exporter": "python",
   "pygments_lexer": "ipython3",
   "version": "3.7.3"
  }
 },
 "nbformat": 4,
 "nbformat_minor": 2
}
